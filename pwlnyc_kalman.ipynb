{
 "cells": [
  {
   "cell_type": "markdown",
   "metadata": {
    "slideshow": {
     "slide_type": "slide"
    }
   },
   "source": [
    "# A New Approach to Linear Filtering and Prediction Problems\n",
    "## a.k.a. Kalman Filters\n",
    "### Papers We Love NYC\n",
    "Elizabeth Ramirez"
   ]
  },
  {
   "cell_type": "code",
   "execution_count": 1,
   "metadata": {
    "collapsed": false,
    "slideshow": {
     "slide_type": "skip"
    }
   },
   "outputs": [],
   "source": [
    "%matplotlib inline\n",
    "import numpy\n",
    "from numpy.random import randn\n",
    "import matplotlib.pyplot as plt"
   ]
  },
  {
   "cell_type": "markdown",
   "metadata": {
    "slideshow": {
     "slide_type": "slide"
    }
   },
   "source": [
    "## Intro\n",
    "![Rudolf_Kalman_Obama](obama_kalman.jpg)  \n",
    "Original paper: [http://www.cs.unc.edu/~welch/kalman/media/pdf/Kalman1960.pdf]"
   ]
  },
  {
   "cell_type": "markdown",
   "metadata": {
    "slideshow": {
     "slide_type": "slide"
    }
   },
   "source": [
    "## What is a Kalman Filter\n",
    "Prediction-correction technique  \n",
    "Calculate recursively system state $u_k$ at time $t_k$ given previous state $u_{k - 1}$ and new information $b_k$"
   ]
  },
  {
   "cell_type": "markdown",
   "metadata": {
    "slideshow": {
     "slide_type": "slide"
    }
   },
   "source": [
    "## Kalman Filters for Rocket Science\n",
    "Used for Apollo Space Program of NASA in early 1960's  \n",
    "Transcription of the original code available at [http://www.ibiblio.org/apollo/]  \n",
    "Implemented in AGC4 assembly language.\n",
    "\n",
    "```\n",
    "# Copyright:\tPublic domain.\n",
    "# Filename:\t KALMAN_FILTER.agc\n",
    "# Purpose:\t  A section of Luminary 1C, revision 131.\n",
    "#\t\t       It is part of the source code for the Lunar Module's (LM)\n",
    "#\t\t       Apollo Guidance Computer (AGC) for Apollo 13 and Apollo 14.\n",
    "#\t\t       This file is intended to be a faithful transcription, except\n",
    "#\t\t       that the code format has been changed to conform to the\n",
    "#\t\t       requirements of the yaYUL assembler rather than the\n",
    "#\t\t       original YUL assembler.\n",
    "# Reference:\tpp. 1467-1468 of 1729.pdf.\n",
    "# Contact:\t  Ron Burkey <info@sandroid.org>.\n",
    "# Website:\t  www.ibiblio.org/apollo/index.html\n",
    "# Mod history:  06/08/03 RSB.\tBegan transcribing.\n",
    "#\t\t       05/14/05 RSB\tCorrected website reference above\n",
    "```"
   ]
  },
  {
   "cell_type": "markdown",
   "metadata": {
    "slideshow": {
     "slide_type": "slide"
    }
   },
   "source": [
    "## Background\n",
    "- Random processes (Appendix)\n",
    "- Dynamic systems\n",
    "- Vector spaces\n",
    "- Least Squares and Normal Equation"
   ]
  },
  {
   "cell_type": "markdown",
   "metadata": {
    "slideshow": {
     "slide_type": "slide"
    }
   },
   "source": [
    "## Vector Spaces\n",
    "$\\mathcal{V}$ a.k.a. Linear Spaces. A space of vectors with a metric: norm, notion of distance, often represented by $|| \\cdot ||$ and the following properties:\n",
    "\n",
    "- $f, g \\in \\mathcal{V} \\rightarrow f + g = h \\in \\mathcal{V}$\n",
    "\n",
    "- $\\lambda \\in \\mathbb{R}, f \\in \\mathcal{V} \\rightarrow \\lambda f \\in \\mathcal{V}$"
   ]
  },
  {
   "cell_type": "markdown",
   "metadata": {
    "slideshow": {
     "slide_type": "slide"
    }
   },
   "source": [
    "## Least Squares\n",
    "<br><br>\n",
    "$$\n",
    "\\text{Linear System } \\textbf{A}\\textbf{u} = \\textbf{b} \\qquad A = m\\times n \\qquad \\textbf{u}, \\textbf{b} \n",
    "\\text{ are n-vectors} \\\\\n",
    "\\text{If } A \\text{ is square: } m = n \\rightarrow \\textbf{u} = A^{-1}\\textbf{b} \\\\~\\\\\n",
    "\\text{But if } A \\text{ is not square: } m > n \\\\\n",
    "\\text{System is } \\textbf{overdetermined} \\\\~\\\\\n",
    "\\text{Example: 100 points that fit } Cx + D\n",
    "$$"
   ]
  },
  {
   "cell_type": "markdown",
   "metadata": {
    "slideshow": {
     "slide_type": "slide"
    }
   },
   "source": [
    "## Least Squares\n",
    "<br><br>\n",
    "$$\n",
    "\\textbf{Solution: } \\text{Find best estimate for state } \\textbf{u} \\text{ that minimizes:} \\\\\n",
    "E = \\left| \\textbf{b} - \\textbf{A}\\hat{\\textbf{u}} \\right|^2 \\\\~\\\\\n",
    "\\text{Solve for } \\hat{\\textbf{u}} \\text{ (an estimate) to minimize } E \\\\~\\\\\n",
    "\\textbf{Normal Equation: } \\textbf{A}^T\\textbf{A}\\hat{\\textbf{u}} = \\textbf{A}^T\\textbf{b}\\\\\n",
    "\\underset{n\\times m}{\\mathrm{A^T}} \\underset{m\\times n}{A} = \\underset{n\\times n}{A^TA}\\\\\n",
    "\\hat{u} = (A^TA)^{-1} A^T b\n",
    "$$"
   ]
  },
  {
   "cell_type": "markdown",
   "metadata": {
    "slideshow": {
     "slide_type": "slide"
    }
   },
   "source": [
    "## Motivation\n",
    "Wiener Filter Problems:\n",
    "- Impulse response\n",
    "- Numerical determination"
   ]
  },
  {
   "cell_type": "markdown",
   "metadata": {
    "slideshow": {
     "slide_type": "slide"
    }
   },
   "source": [
    "## Situation\n",
    "<br><br>\n",
    "$$\n",
    "\\text{Given a signal: } \\textbf{y}(t) = \\textbf{x}_1(t) + \\textbf{x}_2(t) \\\\\n",
    "\\textbf{x}_1(t): \\text{true signal, }\\textbf{x}_2(t): \\text{noise} \\\\~\\\\\n",
    "\\textbf{y}(t_1) \\text{?} \\\\\n",
    "\\text{If }t_1 < t \\text{ : Smoothing} \\\\\n",
    "\\text{If }t_1 = t \\text{ : Filtering} \\\\ \n",
    "\\text{If }t_1 > t \\text{ : Prediction} \\\\\n",
    "$$"
   ]
  },
  {
   "cell_type": "markdown",
   "metadata": {
    "slideshow": {
     "slide_type": "slide"
    }
   },
   "source": [
    "## Theorem 1\n",
    "<br><br>\n",
    "$$\n",
    "\\text{Statistical Estimate } X_1(t_1|t) \\\\\n",
    "\\text{Estimation Error } \\epsilon = x_1(t_1) - X_1(t_1|t) \\\\~\\\\\n",
    "\\text{Loss Function } L(\\epsilon): \\\\\n",
    "L(0) = 0\\\\\n",
    "L(\\epsilon_2) \\geq L(\\epsilon_1) \\geq 0 \\text{ when } \\epsilon_2 \\geq \\epsilon_1 \\geq 0 \\\\\n",
    "L(\\epsilon) = L(-\\epsilon) \\\\~\\\\\n",
    "\\text{Minimize } E\\{L[x_1(t_1) - X_1(t_1)] | y(t_0) … y(t)\\}\n",
    "$$"
   ]
  },
  {
   "cell_type": "markdown",
   "metadata": {
    "slideshow": {
     "slide_type": "slide"
    }
   },
   "source": [
    "## Theorem 1-a\n",
    "<br><br>\n",
    "$$\n",
    "\\text{If } L(\\epsilon) = \\epsilon^2 \\text{ , Theorem 1 is true without assumptions about symmetry and convexity around the mean.}\n",
    "$$\n",
    "\n",
    "## Problem Summary\n",
    "<br><br>\n",
    "$$\n",
    "\\text{Given a vector-valued random process } {x(t)}\\\\\n",
    "\\text{and observed random variables } y(t_0) … y(t) \\\\\n",
    "\\text{Find an estimate } X(t_1) \\text{ that minimizes the expected loss } E\\{L||x(t_1) - X(t_1)||\\}\n",
    "$$ "
   ]
  },
  {
   "cell_type": "markdown",
   "metadata": {
    "slideshow": {
     "slide_type": "slide"
    }
   },
   "source": [
    "## Orthogonal Projections\n",
    "<br><br>\n",
    "$$\n",
    "\\text{Vector Space } \\mathcal{Y}(t) = \\sum_{i = t_0}^{t} a_i y(i) \\\\~\\\\\n",
    "\\text{Given } u, v \\in \\mathcal{Y}(t) \\text{ orthogonal if } E[u \\cdot v] = 0 \\\\~\\\\\n",
    "\\text{Orthonormal basis in } \\mathcal{Y}(t) = e_{t_0} ..., e_t \\text{ such that } \\\\\n",
    "\\bar{x} = \\sum_\n",
    "{i = t_0}^{t} a_i e_i \\\\~\\\\\n",
    "x = \\bar{x} + \\tilde{x}\n",
    "$$\n",
    "![orthoprojection](orthoproj.png)"
   ]
  },
  {
   "cell_type": "markdown",
   "metadata": {
    "slideshow": {
     "slide_type": "notes"
    }
   },
   "source": [
    "From functional analysis, we know that our estimate X1(t1) might or might not live in this vector space Y(t). We would really like our solution to live here. If the vector space is too small, we want to minimize the distance between my estimate and the vector space.\n",
    "\n",
    "Given this, and given we can determine the coefficients of the linear combination, any random variable x, not necessarily in Y(t) can be uniquely decomposed into two parts: a part in Y(t) and a part orthogonal to Y(t) (orthogonal to every vector in Y(t)). \n",
    "\n",
    "See equation 10. The orthogonal projection of x in Y(t): x bar is that vector in Y(t) that minimizes the quadratic loss. This is the key part."
   ]
  },
  {
   "cell_type": "markdown",
   "metadata": {
    "slideshow": {
     "slide_type": "slide"
    }
   },
   "source": [
    "## Theorem 2\n",
    "<br><br>\n",
    "$$\n",
    "\\text{Let } \\{x(t)\\} \\text{ and } \\{y(t)\\} \\text{ be random processes with zero mean } E[x(t)] = E[y(t)] = 0 \\\\\n",
    "\\text{Observe } y(t_0) ... y(t) \\\\\n",
    "\\text{If either the random processes are gaussian or the loss function is restricted to be } L(\\epsilon)=\\epsilon^2 \\\\\n",
    "\\text{ then the optimal estimate of x(t1|t) is given by the orthogonal projection } \\bar{x} \\text{ of } x(t_1)\n",
    "\\text{ on } \\mathcal{Y}(t)\n",
    "$$"
   ]
  },
  {
   "cell_type": "markdown",
   "metadata": {
    "slideshow": {
     "slide_type": "slide"
    }
   },
   "source": [
    "## Recursive Least Squares\n",
    "<br><br>\n",
    "$$\n",
    "\\hat{u_{99}}: \\text{Average of } b_1, b_2, \\dots , b_{99} \\\\~\\\\\n",
    "b_{100} \\rightarrow \\hat{u_{100}} \\\\~\\\\\n",
    "\\hat{u_{100}} = \\frac{99}{100} \\hat{u_{99}} + \\frac{1}{100}b_{100} \\\\\n",
    "\\qquad = \\hat{u_{99}} + \\frac{1}{100}(b_{100} - \\hat{u_{99}}) \\\\\n",
    "b_{100} - \\hat{u_{99}}: \\textbf{innovation} \\qquad\n",
    "\\frac{1}{100}: \\textbf{gain factor}\n",
    "$$"
   ]
  },
  {
   "cell_type": "markdown",
   "metadata": {
    "slideshow": {
     "slide_type": "slide"
    }
   },
   "source": [
    "## Recursive Least Squares\n",
    "<br>\n",
    "Generalizing the Normal Equation:\n",
    "$$\n",
    "\\begin{aligned}\n",
    "&\\begin{bmatrix} A_{old} \\\\ A_{new} \\end{bmatrix} \\begin{bmatrix} u \\end{bmatrix} = \n",
    "\\begin{bmatrix} b_{old} \\\\ b_{new} \\end{bmatrix} \\rightarrow \\hat{u_{new}}\n",
    "\\end{aligned}\n",
    "$$\n",
    "<br>\n",
    "$$\n",
    "\\begin{aligned}\n",
    "&A^T = \\begin{bmatrix} A_{old}^T & A_{new}^T \\end{bmatrix}\\\\\n",
    "&A^TA = \\begin{bmatrix} A_{old}^T & A_{new}^T \\end{bmatrix} \\begin{bmatrix} A_{old}^T \\\\ A_{new}^T \\end{bmatrix} \\\\\n",
    "&\\qquad = A^T_{old} A_{old} + A^T_{new}A_{new} = (known) + (new)\n",
    "\\end{aligned}\n",
    "$$\n",
    "<br>\n",
    "Right-hand side\n",
    "$$\n",
    "\\begin{aligned}\n",
    "&A^Tb =  \\begin{bmatrix} A_{old}^T & A_{new}^T \\end{bmatrix} \\begin{bmatrix} b_{old}^T \\\\ b_{new}^T \\end{bmatrix} \\\\\n",
    "&\\qquad = A^T_{old} b_{old} + A^T_{new} b_{new}\\\\\n",
    "&\\qquad = A^T_{old} A_{old} \\hat{u_{old}} + A^T_{new} b_{new}\n",
    "\\end{aligned}\n",
    "$$"
   ]
  },
  {
   "cell_type": "markdown",
   "metadata": {
    "slideshow": {
     "slide_type": "slide"
    }
   },
   "source": [
    "## Recursive Least Squares \n",
    "<br><br>\n",
    "$$\n",
    "\\hat{u_{new}} = \\hat{u_{old}} + (A^TA)^{-1} A^T_{new}(b_{new} - A_{new} b_{old}) \\\\~\\\\\n",
    "(A^TA)^{-1} A^T_{new}: \\textbf {gain matrix, } K \\text{ (as in Kalman, duh)}\\\\~\\\\\n",
    "\\begin{bmatrix} 1 \\\\ 1 \\\\ \\vdots \\\\ 1 \\end{bmatrix} \\begin{bmatrix} u \\end{bmatrix} = \\begin{bmatrix} b_1 \\\\ b_2 \\\\ \\vdots \\\\ b_{99} \\end{bmatrix}\\\\\n",
    "u = b_{100} = b_{new} \\rightarrow A_{new} = \\begin{bmatrix} 1 \\end{bmatrix}\\\\\n",
    "\\hat{u_{100}} = \\hat{u_{99}} + \\frac{1}{100}(b_{100} - \\hat{u_{99}})\n",
    "$$"
   ]
  },
  {
   "cell_type": "markdown",
   "metadata": {
    "slideshow": {
     "slide_type": "slide"
    }
   },
   "source": [
    "## Covariance Matrix\n",
    "When errors are independent:\n",
    "<br><br>\n",
    "$$\n",
    "\\sigma_{ij} = \\sigma_{ji} = E[e_i e_j] = 0\n",
    "$$\n",
    "<br>\n",
    "$$\n",
    "\\Sigma_e = E(e e^T) = \n",
    "\\begin{bmatrix}\n",
    "\\sigma_1^2\\\\\n",
    "&\\sigma_2^2\\\\\n",
    "&& \\ddots\\\\\n",
    "&&&\\sigma_k^2\\\\\n",
    "\\end{bmatrix} \\\\~\\\\\n",
    "C = \\Sigma_e^{-1}: \\textbf{Weighting Matrix}\n",
    "$$\n",
    "### Weighted Normal Equation\n",
    "$$\n",
    "A^TCA\\hat{u} = A^TCb \\\\\n",
    "\\hat{u} = (A^TCA)^{-1} A^TCb = Lb\n",
    "$$"
   ]
  },
  {
   "cell_type": "markdown",
   "metadata": {
    "slideshow": {
     "slide_type": "slide"
    }
   },
   "source": [
    "## The Kalman Filter\n",
    "<br><br>\n",
    "$$\n",
    "\\text{Time varying least squares problem: Estimate } \\hat{u_k} \\text{ at each time } t_k \\\\\n",
    "\\hat{u_{new}} = L \\hat{u_{old}} + Kb_{new}\\\\\n",
    "\\hat{u_{new}} = \\hat{u_{old}} + K(b_{new} - A_{new}\\hat{u_{old}}) \\\\\n",
    "\\text{innovation } b_{new} - A_{new}\\hat{u_{old}} \\\\\n",
    "\\text{covariance matrix } P = (A^TCA)^{-1}\n",
    "$$\n"
   ]
  },
  {
   "cell_type": "markdown",
   "metadata": {
    "slideshow": {
     "slide_type": "slide"
    }
   },
   "source": [
    "## Algorithm\n",
    "### Prediction\n",
    "<br>\n",
    "$$\n",
    "\\hat{u_{k|k-1}} = F \\hat{u_{k-1|k-1}} + \\epsilon_i \\\\\n",
    "P_{k|k-1} = AP_{k-1|k-1}A^T + Q \\\\\n",
    "F: \\textbf{state transition matrix} \\\\\n",
    "Q: \\textbf{covariance matrix of random excitation}\n",
    "$$\n",
    "\n",
    "### Correction\n",
    "<br>\n",
    "$$\n",
    "K_k = P_{k|k-1}A^T(AP_{k|k-1}A^T + R)^{-1} \\\\\n",
    "\\hat{u_{k|k}} = \\hat{u_{k|k-1}}  + K_k(b_k - A\\hat{u_{k|k-1}}) \\\\\n",
    "P_{k|k} = (I - K_kA)P_{k|k-1}\n",
    "$$"
   ]
  },
  {
   "cell_type": "markdown",
   "metadata": {
    "slideshow": {
     "slide_type": "notes"
    }
   },
   "source": [
    "F is called the state transition matrix. It establishes how the state vector changes from one time step to another.\n",
    "Q is the covariance matrix of system error"
   ]
  },
  {
   "cell_type": "markdown",
   "metadata": {
    "slideshow": {
     "slide_type": "skip"
    }
   },
   "source": [
    "## Implementation\n",
    "- Predicted state and covariance (before the measurement)\n",
    "- Corrected state and covariance (after the measurement)\n",
    "- Innovation\n",
    "- Filter gain"
   ]
  },
  {
   "cell_type": "markdown",
   "metadata": {
    "slideshow": {
     "slide_type": "slide"
    }
   },
   "source": [
    "## Prediction / Correction\n",
    "- Previous state vector $u$\n",
    "- Predicted state vector $\\hat u$\n",
    "- Matrix of observation equations $A$\n",
    "- Vector of observations $b$\n",
    "- Predicted covariance matrix $P$\n",
    "- Process noise matrix $Q$\n",
    "- Observations noise matrix $R$"
   ]
  },
  {
   "cell_type": "code",
   "execution_count": 2,
   "metadata": {
    "collapsed": true,
    "slideshow": {
     "slide_type": "skip"
    }
   },
   "outputs": [],
   "source": [
    "def predict(u, P, F, Q):\n",
    "    u = numpy.dot(F, u)\n",
    "    P = numpy.dot(F, numpy.dot(P, F.T)) + Q\n",
    "    \n",
    "    return u, P"
   ]
  },
  {
   "cell_type": "code",
   "execution_count": 3,
   "metadata": {
    "collapsed": true,
    "slideshow": {
     "slide_type": "skip"
    }
   },
   "outputs": [],
   "source": [
    "def correct(u, A, b, P, Q, R):\n",
    "    C = numpy.dot(A, numpy.dot(P, A.T)) + R\n",
    "    K = numpy.dot(P, numpy.dot(A.T, numpy.linalg.inv(C)))\n",
    "    \n",
    "    u = u + numpy.dot(K, (b - numpy.dot(A, u)))\n",
    "    P = P - numpy.dot(K, numpy.dot(C, K.T))\n",
    "    \n",
    "    return u, P"
   ]
  },
  {
   "cell_type": "code",
   "execution_count": 4,
   "metadata": {
    "collapsed": false,
    "slideshow": {
     "slide_type": "skip"
    }
   },
   "outputs": [],
   "source": [
    "# Test data\n",
    "dt = 0.1\n",
    "A = numpy.array([[1, 0], [0, 1]])\n",
    "u = numpy.zeros((2, 1))\n",
    "# Random initial measurement centered at state value\n",
    "b = numpy.array([[u[0, 0] + randn(1)[0]], [u[1, 0] + randn(1)[0]]])\n",
    "\n",
    "P = numpy.diag((0.01, 0.01))\n",
    "F = numpy.array([[1.0, dt], [0.0, 1.0]])\n",
    "# Unit variance for the sake of simplicity\n",
    "Q = numpy.eye(u.shape[0])\n",
    "R = numpy.eye(b.shape[0])"
   ]
  },
  {
   "cell_type": "code",
   "execution_count": 5,
   "metadata": {
    "collapsed": false,
    "slideshow": {
     "slide_type": "skip"
    }
   },
   "outputs": [
    {
     "name": "stdout",
     "output_type": "stream",
     "text": [
      "predicted final estimate: 177.529113\n",
      "corrected final estimate: 176.602627\n",
      "measured state: 176.007361\n"
     ]
    }
   ],
   "source": [
    "N = 500\n",
    "predictions, corrections, measurements = [], [], []\n",
    "for k in numpy.arange(0, N):\n",
    "    u, P = predict(u, P, F, Q)\n",
    "    predictions.append(u)\n",
    "    u, P = correct(u, A, b, P, Q, R)\n",
    "    corrections.append(u)\n",
    "    measurements.append(b)\n",
    "    b = numpy.array([[u[0, 0] + randn(1)[0]],\n",
    "                     [u[1, 0] + randn(1)[0]]])\n",
    "\n",
    "print 'predicted final estimate: %f' % predictions[-1][0]\n",
    "print 'corrected final estimate: %f' % corrections[-1][0]\n",
    "print 'measured state: %f' % measurements[-1][0]"
   ]
  },
  {
   "cell_type": "code",
   "execution_count": 6,
   "metadata": {
    "collapsed": false,
    "slideshow": {
     "slide_type": "slide"
    }
   },
   "outputs": [
    {
     "data": {
      "image/png": "[encoded data removed]",
      "text/plain": [
       "<matplotlib.figure.Figure at 0x1062b3c90>"
      ]
     },
     "metadata": {},
     "output_type": "display_data"
    }
   ],
   "source": [
    "t = numpy.arange(50, 100)\n",
    "fig = plt.figure(figsize=(15,15))\n",
    "\n",
    "axes = fig.add_subplot(2, 2, 1)\n",
    "axes.set_title(\"Kalman Filter\")\n",
    "axes.plot(t, numpy.array(predictions)[50:100, 0], 'o', label='prediction')\n",
    "axes.plot(t, numpy.array(corrections)[50:100, 0], 'x', label='correction')\n",
    "axes.plot(t, numpy.array(measurements)[50:100, 0], '^', label='measurement')\n",
    "plt.legend()\n",
    "plt.show()"
   ]
  },
  {
   "cell_type": "markdown",
   "metadata": {
    "slideshow": {
     "slide_type": "slide"
    }
   },
   "source": [
    "## Conclusions\n",
    "- Kalman Filter is a generalized least squares problem for dynamical systems.\n",
    "- Computationally more efficient\n",
    "- Strang, Gilbert. *Computational Science and Engineering*"
   ]
  },
  {
   "cell_type": "markdown",
   "metadata": {
    "slideshow": {
     "slide_type": "slide"
    }
   },
   "source": [
    "## Thank you!\n",
    "eramirem@gmail.com\n",
    "<br>\n",
    "@eramirem"
   ]
  }
 ],
 "metadata": {
  "celltoolbar": "Slideshow",
  "kernelspec": {
   "display_name": "Python 2",
   "language": "python",
   "name": "python2"
  },
  "language_info": {
   "codemirror_mode": {
    "name": "ipython",
    "version": 2
   },
   "file_extension": ".py",
   "mimetype": "text/x-python",
   "name": "python",
   "nbconvert_exporter": "python",
   "pygments_lexer": "ipython2",
   "version": "2.7.12"
  }
 },
 "nbformat": 4,
 "nbformat_minor": 0
}
