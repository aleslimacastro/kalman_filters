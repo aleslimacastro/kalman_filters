{
 "cells": [
  {
   "cell_type": "markdown",
   "metadata": {
    "slideshow": {
     "slide_type": "slide"
    }
   },
   "source": [
    "# Kalman Filters for non-rocket science"
   ]
  },
  {
   "cell_type": "code",
   "execution_count": 1,
   "metadata": {
    "collapsed": true,
    "slideshow": {
     "slide_type": "skip"
    }
   },
   "outputs": [],
   "source": [
    "%matplotlib inline\n",
    "import numpy\n",
    "from numpy.random import randn\n",
    "import matplotlib.pyplot as plt"
   ]
  },
  {
   "cell_type": "markdown",
   "metadata": {
    "slideshow": {
     "slide_type": "slide"
    }
   },
   "source": [
    "## Background\n",
    "Named after named after Rudolf Kalman  \n",
    "Original paper: [http://www.cs.unc.edu/~welch/kalman/media/pdf/Kalman1960.pdf]"
   ]
  },
  {
   "cell_type": "markdown",
   "metadata": {
    "slideshow": {
     "slide_type": "slide"
    }
   },
   "source": [
    "![Rudolf_Kalman_Obama](science_medal9_h.jpg)"
   ]
  },
  {
   "cell_type": "markdown",
   "metadata": {
    "slideshow": {
     "slide_type": "slide"
    }
   },
   "source": [
    "## Kalman Filters for rocket science\n",
    "Used for Apollo Space Program of NASA in early 1960's  \n",
    "Transcription of the original code available at [http://www.ibiblio.org/apollo/]  \n",
    "Implemented in AGC4 assembly language\n",
    "\n",
    "CCS: compare and skip  \n",
    "TS: transfer to storage  \n",
    "CA: clear and add"
   ]
  },
  {
   "cell_type": "markdown",
   "metadata": {
    "slideshow": {
     "slide_type": "slide"
    }
   },
   "source": [
    "![AGC_Apollo](agc_kalman.png)"
   ]
  },
  {
   "cell_type": "markdown",
   "metadata": {
    "slideshow": {
     "slide_type": "slide"
    }
   },
   "source": [
    "## Kalman Filters for non-rocket science\n",
    "Used for some type of forecasting problems  \n",
    "Generalization of least squares model  \n",
    "Time series with varying mean and additive noise"
   ]
  },
  {
   "cell_type": "markdown",
   "metadata": {
    "slideshow": {
     "slide_type": "slide"
    }
   },
   "source": [
    "## Least Squares\n",
    "Linear system  \n",
    "$$\n",
    "Au = b\n",
    "$$  \n",
    "If $A$ is square:  \n",
    "$$\n",
    "u = A^{-1}b\n",
    "$$  \n",
    "But if $A$ is not square: $m > n$  \n",
    "System is __overdetermined__.\n",
    "<br><br>\n",
    "Example: 100 points that fit $Cx + D$"
   ]
  },
  {
   "cell_type": "markdown",
   "metadata": {
    "slideshow": {
     "slide_type": "slide"
    }
   },
   "source": [
    "__Solution__: Find best estimate for state $u$ that minimizes:\n",
    "<br><br>\n",
    "$$\n",
    "E = \\left| b - A\\hat{u} \\right|^2\n",
    "$$  \n",
    "Solve for $\\hat{u}$ (an estimate) to minimize E\n",
    "<br><br>\n",
    "__Normal Equation__: $ A^TA\\hat{u} = A^Tb $ \n",
    "<br><br>\n",
    "$$\n",
    "\\underset{n\\times m}{\\mathrm{A^T}} \\underset{m\\times n}{A} = \\underset{n\\times n}{A^TA}\\\\\n",
    "\\hat{u} = (A^TA)^{-1} A^T b\n",
    "$$"
   ]
  },
  {
   "cell_type": "markdown",
   "metadata": {
    "slideshow": {
     "slide_type": "slide"
    }
   },
   "source": [
    "## Covariance Matrix\n",
    "When errors are independent:\n",
    "<br><br>\n",
    "$$\n",
    "\\sigma_{ij} = \\sigma_{ji} = E[e_i e_j] = 0\n",
    "$$\n",
    "<br>\n",
    "$$\n",
    "\\Sigma_e = E(e e^T) = \n",
    "\\begin{bmatrix}\n",
    "\\sigma_1^2\\\\\n",
    "&\\sigma_2^2\\\\\n",
    "&& \\ddots\\\\\n",
    "&&&\\sigma_k^2\\\\\n",
    "\\end{bmatrix}\n",
    "$$\n",
    "<br>\n",
    "$C = \\Sigma_e^{-1}$: __Weighting Matrix__\n",
    "### Weighted Normal Equation\n",
    "$$\n",
    "A^TCA\\hat{u} = A^TCb \\\\\n",
    "\\hat{u} = (A^TCA)^-1 A^TCb = Lb\n",
    "$$"
   ]
  },
  {
   "cell_type": "markdown",
   "metadata": {
    "slideshow": {
     "slide_type": "slide"
    }
   },
   "source": [
    "## Recursive Least Squares\n",
    "\n",
    "$\\hat{u_{99}}$: Average of $b_1, b_2, \\dots , b_{99}$\n",
    "<br>\n",
    "$b_{100} \\rightarrow \\hat{u_{100}}$\n",
    "<br>\n",
    "$$\n",
    "\\hat{u_{100}} = \\frac{99}{100} \\hat{u_{99}} + \\frac{1}{100}b_{100} \\\\\n",
    "\\qquad = \\hat{u_{99}} + \\frac{1}{100}(b_{100} - \\hat{u_{99}})\n",
    "$$\n",
    "<br>\n",
    "$b_{100} - \\hat{u_{99}}$: __innovation__\n",
    "<br>\n",
    "$\\frac{1}{100}$: __gain factor__"
   ]
  },
  {
   "cell_type": "markdown",
   "metadata": {
    "slideshow": {
     "slide_type": "slide"
    }
   },
   "source": [
    "Generalizing:\n",
    "$$\n",
    "A_{old}u = b_{old}\\\\\n",
    "\\begin{bmatrix} A_{old} \\\\ A_{new} \\end{bmatrix} \\begin{bmatrix} u \\end{bmatrix} = \n",
    "\\begin{bmatrix} b_{old} \\\\ b_{new} \\end{bmatrix} \\rightarrow \\hat{u_{new}}\n",
    "$$\n",
    "<br>\n",
    "$$\n",
    "A^T = \\begin{bmatrix} A_{old}^T & A_{new}^T \\end{bmatrix}\\\\\n",
    "A^TA = \\begin{bmatrix} A_{old}^T & A_{new}^T \\end{bmatrix} \\begin{bmatrix} A_{old}^T \\\\ A_{new}^T \\end{bmatrix} \\\\\n",
    "\\qquad = A^T_{old} A_{old} + A^T_{new}A_{new} = (known) + (new)\n",
    "$$\n",
    "<br>\n",
    "Right-hand side\n",
    "$$\n",
    "A^Tb =  \\begin{bmatrix} A_{old}^T & A_{new}^T \\end{bmatrix} \\begin{bmatrix} b_{old}^T \\\\ b_{new}^T \\end{bmatrix} \\\\\n",
    "\\qquad = A^T_{old} b_{old} + A^T_{new} b_{new}\\\\\n",
    "\\qquad = A^T_{old} A_{old} \\hat{u_{old}} + A^T_{new} b_{new}\n",
    "$$"
   ]
  },
  {
   "cell_type": "markdown",
   "metadata": {
    "slideshow": {
     "slide_type": "slide"
    }
   },
   "source": [
    "__Recursive Least Squares__: $\\hat{u_{new}} = \\hat{u_{old}} + (A^TA)^{-1} A^T_{new}(b_{new} - A_{new} b_{old})$\n",
    "<br>\n",
    "<br>\n",
    "$(A^TA)^{-1} A^T_{new}$: __gain matrix, K__\n",
    "<br>\n",
    "$$\n",
    "\\begin{bmatrix} 1 \\\\ 1 \\\\ \\vdots \\\\ 1 \\end{bmatrix} \\begin{bmatrix} u \\end{bmatrix} = \\begin{bmatrix} b_1 \\\\ b_2 \\\\ \\vdots \\\\ b_{99} \\end{bmatrix}\\\\\n",
    "u = b_{100} = b_{new} \\rightarrow A_{new} = \\begin{bmatrix} 1 \\end{bmatrix}\\\\\n",
    "\\hat{u_{100}} = \\hat{u_{99}} + \\frac{1}{100}(b_{100} - \\hat{u_{99}})\n",
    "$$"
   ]
  },
  {
   "cell_type": "markdown",
   "metadata": {
    "slideshow": {
     "slide_type": "slide"
    }
   },
   "source": [
    "## The Kalman Filter\n",
    "Time varying least squares problem:\n",
    "<br>\n",
    "Estimate $\\hat{u_k}$ at each time $t_k$\n",
    "$$\n",
    "\\hat{u_{new}} = L \\hat{u_{old}} + Kb_{new}\n",
    "$$\n",
    "<br>\n",
    "1. Recursion\n",
    "<br><br>\n",
    "2. Linear combination:\n",
    "$$\n",
    "\\hat{u_{new}} = \\hat{u_{old}} + K(b_{new} - A_{new}\\hat{u_{old}})\n",
    "$$  \n",
    "__innovation__: $b_{new} - A_{new}\\hat{u_{old}}$\n",
    "<br><br>\n",
    "3. Reliability: covariance matrix $P = (A^TCA)^{-1}$"
   ]
  },
  {
   "cell_type": "markdown",
   "metadata": {
    "slideshow": {
     "slide_type": "slide"
    }
   },
   "source": [
    "### Algorithm\n",
    "#### Prediction\n",
    "$$\n",
    "\\hat{u_{k|k-1}} = F \\hat{u_{k-1|k-1}} + \\epsilon_i \\\\\n",
    "P_{k|k-1} = AP_{k-1|k-1}A^T + Q\n",
    "$$\n",
    "<br>\n",
    "$F$: __state transition matrix__\n",
    "<br>\n",
    "$Q$: __covariance matrix of system error__\n",
    "\n",
    "#### Correction\n",
    "$$\n",
    "K_k = P_{k|k-1}A^T(AP_{k|k-1}A^T + R)^-1 \\\\\n",
    "\\hat{u_{k|k}} = \\hat{u_{k|k-1}}  + K_k(b_k - A\\hat{u_{k|k-1}}) \\\\\n",
    "P_{k|k} = (I - K_kA)P_{k|k-1}\n",
    "$$"
   ]
  },
  {
   "cell_type": "markdown",
   "metadata": {
    "slideshow": {
     "slide_type": "slide"
    }
   },
   "source": [
    "## Implementation\n",
    "#### Output\n",
    "- Predicted mean and covariance of the state (before the measurement)\n",
    "- Estimated mean and covariance of the state (after the measurement)\n",
    "- Innovation\n",
    "- Filter gain"
   ]
  },
  {
   "cell_type": "markdown",
   "metadata": {
    "slideshow": {
     "slide_type": "slide"
    }
   },
   "source": [
    "### Prediction\n",
    "- Previous state vector $u$\n",
    "- Previous covariance matrix $P$\n",
    "- State transition matrix $F$\n",
    "- Process noise matrix $Q$"
   ]
  },
  {
   "cell_type": "code",
   "execution_count": 2,
   "metadata": {
    "collapsed": true,
    "slideshow": {
     "slide_type": "slide"
    }
   },
   "outputs": [],
   "source": [
    "def predict(u, P, F, Q):\n",
    "    u = numpy.dot(F, u)\n",
    "    P = numpy.dot(F, numpy.dot(P, F.T)) + Q\n",
    "    \n",
    "    return u, P"
   ]
  },
  {
   "cell_type": "markdown",
   "metadata": {
    "slideshow": {
     "slide_type": "slide"
    }
   },
   "source": [
    "### Correction\n",
    "- Predicted state vector $u$\n",
    "- Matrix in observation equations $A$\n",
    "- Vector of observations $b$\n",
    "- Predicted covariance matrix $P$\n",
    "- Process noise matrix $Q$\n",
    "- Observations noise matrix $R$"
   ]
  },
  {
   "cell_type": "code",
   "execution_count": 3,
   "metadata": {
    "collapsed": true,
    "slideshow": {
     "slide_type": "slide"
    }
   },
   "outputs": [],
   "source": [
    "def correct(u, A, b, P, Q, R):\n",
    "    C = numpy.dot(A, numpy.dot(P, A.T)) + R\n",
    "    K = numpy.dot(P, numpy.dot(A.T, numpy.linalg.inv(C)))\n",
    "    \n",
    "    u = u + numpy.dot(K, (b - numpy.dot(A, u)))\n",
    "    P = P - numpy.dot(K, numpy.dot(C, K.T))\n",
    "    \n",
    "    return u, P"
   ]
  },
  {
   "cell_type": "code",
   "execution_count": 4,
   "metadata": {
    "collapsed": false,
    "slideshow": {
     "slide_type": "slide"
    }
   },
   "outputs": [],
   "source": [
    "dt = 0.1\n",
    "A = numpy.array([[1, 0], [0, 1]])\n",
    "u = numpy.zeros((2, 1))\n",
    "# Random initial measurement centered at state value\n",
    "b = numpy.array([[u[0, 0] + randn(1)[0]], [u[1, 0] + randn(1)[0]]])\n",
    "\n",
    "P = numpy.diag((0.01, 0.01))\n",
    "F = numpy.array([[1.0, dt], [0.0, 1.0]])\n",
    "# Unit variance for the sake of simplicity\n",
    "Q = numpy.eye(u.shape[0])\n",
    "R = numpy.eye(b.shape[0])"
   ]
  },
  {
   "cell_type": "code",
   "execution_count": 5,
   "metadata": {
    "collapsed": false,
    "slideshow": {
     "slide_type": "slide"
    }
   },
   "outputs": [
    {
     "name": "stdout",
     "output_type": "stream",
     "text": [
      "predicted final estimate: 16.452660\n",
      "corrected final estimate: 15.227033\n",
      "measured state: 14.478272\n"
     ]
    }
   ],
   "source": [
    "N = 500\n",
    "predictions, corrections, measurements = [], [], []\n",
    "for k in numpy.arange(0, N):\n",
    "    u, P = predict(u, P, F, Q)\n",
    "    predictions.append(u)\n",
    "    u, P = correct(u, A, b, P, Q, R)\n",
    "    corrections.append(u)\n",
    "    measurements.append(b)\n",
    "    b = numpy.array([[u[0, 0] + randn(1)[0]],\n",
    "                     [u[1, 0] + randn(1)[0]]])\n",
    "\n",
    "print 'predicted final estimate: %f' % predictions[-1][0]\n",
    "print 'corrected final estimate: %f' % corrections[-1][0]\n",
    "print 'measured state: %f' % measurements[-1][0]"
   ]
  },
  {
   "cell_type": "code",
   "execution_count": 6,
   "metadata": {
    "collapsed": false,
    "slideshow": {
     "slide_type": "slide"
    }
   },
   "outputs": [
    {
     "data": {
      "image/png": "[encoded data removed]",
      "text/plain": [
       "<matplotlib.figure.Figure at 0x10573a550>"
      ]
     },
     "metadata": {},
     "output_type": "display_data"
    }
   ],
   "source": [
    "t = numpy.arange(50, 100)\n",
    "fig = plt.figure(figsize=(15,15))\n",
    "\n",
    "axes = fig.add_subplot(2, 2, 1)\n",
    "axes.set_title(\"Kalman Filter\")\n",
    "axes.plot(t, numpy.array(predictions)[50:100, 0], 'o', label='prediction')\n",
    "axes.plot(t, numpy.array(corrections)[50:100, 0], 'x', label='correction')\n",
    "axes.plot(t, numpy.array(measurements)[50:100, 0], '^', label='measurement')\n",
    "plt.legend()\n",
    "plt.show()"
   ]
  },
  {
   "cell_type": "markdown",
   "metadata": {
    "slideshow": {
     "slide_type": "slide"
    }
   },
   "source": [
    "## Conclusions\n",
    "- Kalman Filter is a viable forecasting technique for time series\n",
    "- Computationally more efficient\n",
    "- Strang, Gilbert. *Computational Science and Engineering*\n",
    "![Gilbert_Strang](cupcakematrix.jpg)"
   ]
  },
  {
   "cell_type": "markdown",
   "metadata": {
    "slideshow": {
     "slide_type": "slide"
    }
   },
   "source": [
    "## Thank you!\n",
    "eramirem@gmail.com\n",
    "<br>\n",
    "@eramirem"
   ]
  }
 ],
 "metadata": {
  "celltoolbar": "Slideshow",
  "kernelspec": {
   "display_name": "Python 2",
   "language": "python",
   "name": "python2"
  },
  "language_info": {
   "codemirror_mode": {
    "name": "ipython",
    "version": 2
   },
   "file_extension": ".py",
   "mimetype": "text/x-python",
   "name": "python",
   "nbconvert_exporter": "python",
   "pygments_lexer": "ipython2",
   "version": "2.7.10"
  }
 },
 "nbformat": 4,
 "nbformat_minor": 0
}
